{
  "nbformat": 4,
  "nbformat_minor": 0,
  "metadata": {
    "colab": {
      "provenance": [],
      "authorship_tag": "ABX9TyPnHYsV7DhFUv8j1zuUdNYB",
      "include_colab_link": true
    },
    "kernelspec": {
      "name": "python3",
      "display_name": "Python 3"
    },
    "language_info": {
      "name": "python"
    }
  },
  "cells": [
    {
      "cell_type": "markdown",
      "metadata": {
        "id": "view-in-github",
        "colab_type": "text"
      },
      "source": [
        "<a href=\"https://colab.research.google.com/github/Max-Konovalov/mtuci_lab1/blob/main/mtuci_lab.ipynb\" target=\"_parent\"><img src=\"https://colab.research.google.com/assets/colab-badge.svg\" alt=\"Open In Colab\"/></a>"
      ]
    },
    {
      "cell_type": "code",
      "execution_count": 24,
      "metadata": {
        "id": "CYKEGVRLjbNv"
      },
      "outputs": [],
      "source": [
        "import pandas as pd\n",
        "from google.colab import drive\n",
        "from sklearn.model_selection import train_test_split\n",
        "from sklearn.pipeline import Pipeline\n",
        "from sklearn.compose import ColumnTransformer\n",
        "from sklearn.preprocessing import StandardScaler, OneHotEncoder\n",
        "from sklearn.impute import SimpleImputer\n",
        "from xgboost import XGBRegressor\n",
        "import joblib\n",
        "#импорт необходимых библиотек"
      ]
    },
    {
      "cell_type": "code",
      "source": [
        "#Подключение CSV файла и вывод информации первых 10 строк\n",
        "drive.mount('/content/drive/')\n",
        "file_path = '/content/Laptop_price.csv'\n",
        "df = pd.read_csv(file_path)\n",
        "print(df.head(10))"
      ],
      "metadata": {
        "colab": {
          "base_uri": "https://localhost:8080/"
        },
        "id": "9-eh6oGOmeDX",
        "outputId": "2ac35ece-4aa1-4afb-b301-b6bc6699f757"
      },
      "execution_count": 25,
      "outputs": [
        {
          "output_type": "stream",
          "name": "stdout",
          "text": [
            "Drive already mounted at /content/drive/; to attempt to forcibly remount, call drive.mount(\"/content/drive/\", force_remount=True).\n",
            "    Brand  Processor_Speed  RAM_Size  Storage_Capacity  Screen_Size    Weight  \\\n",
            "0    Asus         3.830296        16               512    11.185147  2.641094   \n",
            "1    Acer         2.912833         4              1000    11.311372  3.260012   \n",
            "2  Lenovo         3.241627         4               256    11.853023  2.029061   \n",
            "3    Acer         3.806248        16               512    12.280360  4.573865   \n",
            "4    Acer         3.268097        32              1000    14.990877  4.193472   \n",
            "5      HP         1.881348        16               256    11.943958  4.840268   \n",
            "6  Lenovo         2.940721        32               256    11.713246  4.344846   \n",
            "7  Lenovo         3.016788         4               256    15.588315  2.941120   \n",
            "8  Lenovo         2.560327         4               512    15.026332  2.743620   \n",
            "9    Acer         3.341111        32               512    13.611945  4.093149   \n",
            "\n",
            "          Price  \n",
            "0  17395.093065  \n",
            "1  31607.605919  \n",
            "2   9291.023542  \n",
            "3  17436.728334  \n",
            "4  32917.990718  \n",
            "5   9543.719980  \n",
            "6  10390.137319  \n",
            "7   9214.484506  \n",
            "8  16372.175284  \n",
            "9  18501.832733  \n"
          ]
        }
      ]
    },
    {
      "cell_type": "code",
      "source": [
        "X = df.drop(columns=['Price'])\n",
        "y = df['Price']\n",
        "X_train, X_test, y_train, y_test = train_test_split(X, y, test_size=0.2, random_state=42)\n"
      ],
      "metadata": {
        "id": "XEboIvImk-IS"
      },
      "execution_count": 26,
      "outputs": []
    },
    {
      "cell_type": "code",
      "source": [
        "print(X)"
      ],
      "metadata": {
        "colab": {
          "base_uri": "https://localhost:8080/"
        },
        "id": "gfUg8m-BlXRI",
        "outputId": "117e2bc6-c9aa-4122-ac8a-9a83d74fe15a"
      },
      "execution_count": 27,
      "outputs": [
        {
          "output_type": "stream",
          "name": "stdout",
          "text": [
            "      Brand  Processor_Speed  RAM_Size  Storage_Capacity  Screen_Size  \\\n",
            "0      Asus         3.830296        16               512    11.185147   \n",
            "1      Acer         2.912833         4              1000    11.311372   \n",
            "2    Lenovo         3.241627         4               256    11.853023   \n",
            "3      Acer         3.806248        16               512    12.280360   \n",
            "4      Acer         3.268097        32              1000    14.990877   \n",
            "..      ...              ...       ...               ...          ...   \n",
            "995      HP         3.343584         4              1000    12.587095   \n",
            "996    Dell         2.780555         8               256    12.679356   \n",
            "997    Dell         3.200569         4               512    12.666315   \n",
            "998    Asus         1.604182         8               256    11.215581   \n",
            "999  Lenovo         1.711980         4               256    16.561498   \n",
            "\n",
            "       Weight  \n",
            "0    2.641094  \n",
            "1    3.260012  \n",
            "2    2.029061  \n",
            "3    4.573865  \n",
            "4    4.193472  \n",
            "..        ...  \n",
            "995  3.162399  \n",
            "996  3.750265  \n",
            "997  3.392612  \n",
            "998  3.857613  \n",
            "999  3.440883  \n",
            "\n",
            "[1000 rows x 6 columns]\n"
          ]
        }
      ]
    },
    {
      "cell_type": "code",
      "source": [
        "print(y)"
      ],
      "metadata": {
        "colab": {
          "base_uri": "https://localhost:8080/"
        },
        "id": "Px4oK135m6Mt",
        "outputId": "98b55fa0-d22e-4a21-fd32-c7d5881578c0"
      },
      "execution_count": 28,
      "outputs": [
        {
          "output_type": "stream",
          "name": "stdout",
          "text": [
            "0      17395.093065\n",
            "1      31607.605919\n",
            "2       9291.023542\n",
            "3      17436.728334\n",
            "4      32917.990718\n",
            "           ...     \n",
            "995    31593.668017\n",
            "996     9149.521832\n",
            "997    16552.404779\n",
            "998     9407.473459\n",
            "999     8807.696702\n",
            "Name: Price, Length: 1000, dtype: float64\n"
          ]
        }
      ]
    },
    {
      "cell_type": "code",
      "source": [
        "num_features = X.select_dtypes(include=['int64', 'float64']).columns.tolist()\n",
        "cat_features = X.select_dtypes(include=['object']).columns.tolist()\n",
        "num_transformer = Pipeline([\n",
        "    ('imputer', SimpleImputer(strategy='median')),\n",
        "    ('scaler', StandardScaler())\n",
        "])\n",
        "cat_transformer = Pipeline([\n",
        "        ('imputer', SimpleImputer(strategy='most_frequent')),\n",
        "        ('encoder', OneHotEncoder(handle_unknown='ignore'))\n",
        "])\n",
        "preprocessor = ColumnTransformer([\n",
        "    ('num', num_transformer, num_features),\n",
        "    ('cat', cat_transformer, cat_features)\n",
        "])\n",
        "pipeline = Pipeline([\n",
        "    ('preprocessor', preprocessor),\n",
        "   ('model', XGBRegressor(n_estimators=100, learning_rate=0.1, max_depth=5))\n",
        "])\n",
        "pipeline.fit(X_train, y_train)\n",
        "joblib.dump(pipeline, '/content/laptop_price_model.pkl')\n",
        "\n"
      ],
      "metadata": {
        "colab": {
          "base_uri": "https://localhost:8080/"
        },
        "id": "7coaMDRVlZ-u",
        "outputId": "9fed817b-749b-4d54-d0e5-93b95f4dc887"
      },
      "execution_count": 29,
      "outputs": [
        {
          "output_type": "execute_result",
          "data": {
            "text/plain": [
              "['/content/laptop_price_model.pkl']"
            ]
          },
          "metadata": {},
          "execution_count": 29
        }
      ]
    },
    {
      "cell_type": "code",
      "source": [
        "!git init\n",
        "#Прописал в .gitignore файле /drive (на диске лежат некоторые рабочие файлы, так что не могу работать через него)"
      ],
      "metadata": {
        "colab": {
          "base_uri": "https://localhost:8080/"
        },
        "id": "t2pXqhCFl_aM",
        "outputId": "1e1769a3-1ef2-4f4e-b188-54a3d7784419"
      },
      "execution_count": 30,
      "outputs": [
        {
          "output_type": "stream",
          "name": "stdout",
          "text": [
            "Reinitialized existing Git repository in /content/.git/\n"
          ]
        }
      ]
    },
    {
      "cell_type": "code",
      "source": [
        "!git add ."
      ],
      "metadata": {
        "id": "95_SF8FVo1EJ"
      },
      "execution_count": 31,
      "outputs": []
    },
    {
      "cell_type": "code",
      "source": [
        "!git commit -m \"Some message\""
      ],
      "metadata": {
        "colab": {
          "base_uri": "https://localhost:8080/"
        },
        "id": "AlPWwZtQtA5u",
        "outputId": "196da5b1-b773-44ba-fd9f-7bd72fe1d7ff"
      },
      "execution_count": 35,
      "outputs": [
        {
          "output_type": "stream",
          "name": "stdout",
          "text": [
            "On branch main\n",
            "nothing to commit, working tree clean\n"
          ]
        }
      ]
    },
    {
      "cell_type": "code",
      "source": [
        "# Add your email to the global config-file\n",
        "!git config --global user.email MaxKOYT@yandex,ru\n",
        "\n",
        "# Add your email to the global config-file\n",
        "!git config --global user.name Max-Konovalov"
      ],
      "metadata": {
        "id": "heW3uowntNdC"
      },
      "execution_count": 37,
      "outputs": []
    },
    {
      "cell_type": "code",
      "source": [
        "!git remote add origin https://github.com/Max-Konovalov/mtuci_lab1.git"
      ],
      "metadata": {
        "id": "yJ4HsaEutx7b"
      },
      "execution_count": 47,
      "outputs": []
    },
    {
      "cell_type": "code",
      "source": [
        "!git push -u origin master"
      ],
      "metadata": {
        "colab": {
          "base_uri": "https://localhost:8080/"
        },
        "id": "3b-I9in5uTDO",
        "outputId": "5e23819c-a605-4e0a-f74f-6542fb94441e"
      },
      "execution_count": 48,
      "outputs": [
        {
          "output_type": "stream",
          "name": "stdout",
          "text": [
            "error: src refspec master does not match any\n",
            "\u001b[31merror: failed to push some refs to 'https://github.com/Max-Konovalov/mtuci_lab1.git'\n",
            "\u001b[m"
          ]
        }
      ]
    },
    {
      "cell_type": "code",
      "source": [
        "!git remote rm origin"
      ],
      "metadata": {
        "id": "rY-CbqhRuHmj"
      },
      "execution_count": 45,
      "outputs": []
    },
    {
      "cell_type": "code",
      "source": [
        "%%writefile app.py\n",
        "from fastapi import FastAPI, File, UploadFile\n",
        "import pandas as pd\n",
        "import joblib\n",
        "from io import BytesIO\n",
        "\n",
        "app = FastAPI()\n",
        "\n",
        "# Загрузка обученной модели\n",
        "model_path = \"/content/drive/MyDrive/laptop_price_model.pkl\"\n",
        "model = joblib.load(model_path)\n",
        "\n",
        "@app.post(\"/predict/\")\n",
        "async def predict(file: UploadFile = File(...)):\n",
        "    content = await file.read()\n",
        "    df = pd.read_csv(BytesIO(content))\n",
        "    predictions = model.predict(df)\n",
        "    return {\"predictions\": predictions.tolist()}\n"
      ],
      "metadata": {
        "colab": {
          "base_uri": "https://localhost:8080/"
        },
        "id": "MUif62dGvTPb",
        "outputId": "4b0a93b8-3bfa-41e0-b62b-76ba02636fb7"
      },
      "execution_count": 49,
      "outputs": [
        {
          "output_type": "stream",
          "name": "stdout",
          "text": [
            "Writing app.py\n"
          ]
        }
      ]
    },
    {
      "cell_type": "code",
      "source": [
        "!ngrok config add-authtoken YOUR_AUTH_TOKEN\n",
        "\n",
        "Далее в фоновом режиме запускаем uvicorn:\n",
        "!nohup uvicorn app:app --host 0.0.0.0 --port 8000 --reload > fastapi.log 2>&1 &\n",
        "\n",
        "\n",
        "После чего уже запускаем FastAPI\n",
        "\n",
        "from pyngrok import ngrok\n",
        "# Подключаем публичный URL\n",
        "public_url = ngrok.connect(8000)\n",
        "print(\"API доступно по адресу:\", public_url)\n"
      ],
      "metadata": {
        "id": "4WKhDkoAvSLb"
      },
      "execution_count": null,
      "outputs": []
    }
  ]
}