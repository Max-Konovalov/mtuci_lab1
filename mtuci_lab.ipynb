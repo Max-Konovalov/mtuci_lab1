{
  "cells": [
    {
      "cell_type": "markdown",
      "metadata": {
        "id": "view-in-github",
        "colab_type": "text"
      },
      "source": [
        "<a href=\"https://colab.research.google.com/github/Max-Konovalov/mtuci_lab1/blob/main/mtuci_lab.ipynb\" target=\"_parent\"><img src=\"https://colab.research.google.com/assets/colab-badge.svg\" alt=\"Open In Colab\"/></a>"
      ]
    },
    {
      "cell_type": "code",
      "execution_count": null,
      "metadata": {
        "id": "CYKEGVRLjbNv"
      },
      "outputs": [],
      "source": [
        "#ссылка на гитхаб https://github.com/Max-Konovalov/mtuci_lab1\n",
        "\n",
        "import pandas as pd\n",
        "from google.colab import drive\n",
        "from sklearn.model_selection import train_test_split\n",
        "from sklearn.pipeline import Pipeline\n",
        "from sklearn.compose import ColumnTransformer\n",
        "from sklearn.preprocessing import StandardScaler, OneHotEncoder\n",
        "from sklearn.impute import SimpleImputer\n",
        "from xgboost import XGBRegressor\n",
        "import joblib\n",
        "#импорт необходимых библиотек"
      ]
    },
    {
      "cell_type": "code",
      "execution_count": null,
      "metadata": {
        "colab": {
          "base_uri": "https://localhost:8080/"
        },
        "id": "9-eh6oGOmeDX",
        "outputId": "adb277db-cd1c-4c78-c84e-c8b162df2462"
      },
      "outputs": [
        {
          "output_type": "stream",
          "name": "stdout",
          "text": [
            "Drive already mounted at /content/drive/; to attempt to forcibly remount, call drive.mount(\"/content/drive/\", force_remount=True).\n",
            "    Brand  Processor_Speed  RAM_Size  Storage_Capacity  Screen_Size    Weight  \\\n",
            "0    Asus         3.830296        16               512    11.185147  2.641094   \n",
            "1    Acer         2.912833         4              1000    11.311372  3.260012   \n",
            "2  Lenovo         3.241627         4               256    11.853023  2.029061   \n",
            "3    Acer         3.806248        16               512    12.280360  4.573865   \n",
            "4    Acer         3.268097        32              1000    14.990877  4.193472   \n",
            "5      HP         1.881348        16               256    11.943958  4.840268   \n",
            "6  Lenovo         2.940721        32               256    11.713246  4.344846   \n",
            "7  Lenovo         3.016788         4               256    15.588315  2.941120   \n",
            "8  Lenovo         2.560327         4               512    15.026332  2.743620   \n",
            "9    Acer         3.341111        32               512    13.611945  4.093149   \n",
            "\n",
            "          Price  \n",
            "0  17395.093065  \n",
            "1  31607.605919  \n",
            "2   9291.023542  \n",
            "3  17436.728334  \n",
            "4  32917.990718  \n",
            "5   9543.719980  \n",
            "6  10390.137319  \n",
            "7   9214.484506  \n",
            "8  16372.175284  \n",
            "9  18501.832733  \n"
          ]
        }
      ],
      "source": [
        "#Подключение CSV файла и вывод информации первых 10 строк\n",
        "drive.mount('/content/drive/')\n",
        "file_path = '/content/Laptop_price.csv'\n",
        "df = pd.read_csv(file_path)\n",
        "print(df.head(10))"
      ]
    },
    {
      "cell_type": "code",
      "execution_count": null,
      "metadata": {
        "id": "XEboIvImk-IS"
      },
      "outputs": [],
      "source": [
        "X = df.drop(columns=['Price'])\n",
        "y = df['Price']\n",
        "X_train, X_test, y_train, y_test = train_test_split(X, y, test_size=0.2, random_state=42)\n"
      ]
    },
    {
      "cell_type": "code",
      "execution_count": null,
      "metadata": {
        "colab": {
          "base_uri": "https://localhost:8080/"
        },
        "id": "gfUg8m-BlXRI",
        "outputId": "d167b4d9-a402-4cce-8f14-b79c89ff73e0"
      },
      "outputs": [
        {
          "output_type": "stream",
          "name": "stdout",
          "text": [
            "      Brand  Processor_Speed  RAM_Size  Storage_Capacity  Screen_Size  \\\n",
            "0      Asus         3.830296        16               512    11.185147   \n",
            "1      Acer         2.912833         4              1000    11.311372   \n",
            "2    Lenovo         3.241627         4               256    11.853023   \n",
            "3      Acer         3.806248        16               512    12.280360   \n",
            "4      Acer         3.268097        32              1000    14.990877   \n",
            "..      ...              ...       ...               ...          ...   \n",
            "995      HP         3.343584         4              1000    12.587095   \n",
            "996    Dell         2.780555         8               256    12.679356   \n",
            "997    Dell         3.200569         4               512    12.666315   \n",
            "998    Asus         1.604182         8               256    11.215581   \n",
            "999  Lenovo         1.711980         4               256    16.561498   \n",
            "\n",
            "       Weight  \n",
            "0    2.641094  \n",
            "1    3.260012  \n",
            "2    2.029061  \n",
            "3    4.573865  \n",
            "4    4.193472  \n",
            "..        ...  \n",
            "995  3.162399  \n",
            "996  3.750265  \n",
            "997  3.392612  \n",
            "998  3.857613  \n",
            "999  3.440883  \n",
            "\n",
            "[1000 rows x 6 columns]\n"
          ]
        }
      ],
      "source": [
        "print(X)"
      ]
    },
    {
      "cell_type": "code",
      "execution_count": null,
      "metadata": {
        "colab": {
          "base_uri": "https://localhost:8080/"
        },
        "id": "Px4oK135m6Mt",
        "outputId": "0ab88879-ce60-4c22-e974-2aec88119315"
      },
      "outputs": [
        {
          "output_type": "stream",
          "name": "stdout",
          "text": [
            "0      17395.093065\n",
            "1      31607.605919\n",
            "2       9291.023542\n",
            "3      17436.728334\n",
            "4      32917.990718\n",
            "           ...     \n",
            "995    31593.668017\n",
            "996     9149.521832\n",
            "997    16552.404779\n",
            "998     9407.473459\n",
            "999     8807.696702\n",
            "Name: Price, Length: 1000, dtype: float64\n"
          ]
        }
      ],
      "source": [
        "print(y)"
      ]
    },
    {
      "cell_type": "code",
      "execution_count": null,
      "metadata": {
        "colab": {
          "base_uri": "https://localhost:8080/"
        },
        "id": "7coaMDRVlZ-u",
        "outputId": "bbab6a50-4e35-4e43-a296-76aebbf1d46e"
      },
      "outputs": [
        {
          "output_type": "execute_result",
          "data": {
            "text/plain": [
              "['/content/laptop_price_model.pkl']"
            ]
          },
          "metadata": {},
          "execution_count": 9
        }
      ],
      "source": [
        "num_features = X.select_dtypes(include=['int64', 'float64']).columns.tolist()\n",
        "cat_features = X.select_dtypes(include=['object']).columns.tolist()\n",
        "num_transformer = Pipeline([\n",
        "    ('imputer', SimpleImputer(strategy='median')),\n",
        "    ('scaler', StandardScaler())\n",
        "])\n",
        "cat_transformer = Pipeline([\n",
        "        ('imputer', SimpleImputer(strategy='most_frequent')),\n",
        "        ('encoder', OneHotEncoder(handle_unknown='ignore'))\n",
        "])\n",
        "preprocessor = ColumnTransformer([\n",
        "    ('num', num_transformer, num_features),\n",
        "    ('cat', cat_transformer, cat_features)\n",
        "])\n",
        "pipeline = Pipeline([\n",
        "    ('preprocessor', preprocessor),\n",
        "   ('model', XGBRegressor(n_estimators=100, learning_rate=0.1, max_depth=5))\n",
        "])\n",
        "pipeline.fit(X_train, y_train)\n",
        "joblib.dump(pipeline, '/content/laptop_price_model.pkl')\n",
        "\n"
      ]
    },
    {
      "cell_type": "code",
      "execution_count": null,
      "metadata": {
        "colab": {
          "base_uri": "https://localhost:8080/"
        },
        "id": "t2pXqhCFl_aM",
        "outputId": "1e1769a3-1ef2-4f4e-b188-54a3d7784419"
      },
      "outputs": [
        {
          "name": "stdout",
          "output_type": "stream",
          "text": [
            "Reinitialized existing Git repository in /content/.git/\n"
          ]
        }
      ],
      "source": [
        "!git init\n",
        "#Прописал в .gitignore файле /drive (на диске лежат некоторые рабочие файлы, так что не могу работать через него)"
      ]
    },
    {
      "cell_type": "code",
      "execution_count": null,
      "metadata": {
        "id": "95_SF8FVo1EJ"
      },
      "outputs": [],
      "source": [
        "!git add ."
      ]
    },
    {
      "cell_type": "code",
      "execution_count": null,
      "metadata": {
        "colab": {
          "base_uri": "https://localhost:8080/"
        },
        "id": "AlPWwZtQtA5u",
        "outputId": "196da5b1-b773-44ba-fd9f-7bd72fe1d7ff"
      },
      "outputs": [
        {
          "name": "stdout",
          "output_type": "stream",
          "text": [
            "On branch main\n",
            "nothing to commit, working tree clean\n"
          ]
        }
      ],
      "source": [
        "!git commit -m \"Some message\""
      ]
    },
    {
      "cell_type": "code",
      "execution_count": null,
      "metadata": {
        "id": "heW3uowntNdC"
      },
      "outputs": [],
      "source": [
        "# Add your email to the global config-file\n",
        "!git config --global user.email MaxKOYT@yandex,ru\n",
        "\n",
        "# Add your email to the global config-file\n",
        "!git config --global user.name Max-Konovalov"
      ]
    },
    {
      "cell_type": "code",
      "execution_count": null,
      "metadata": {
        "id": "yJ4HsaEutx7b"
      },
      "outputs": [],
      "source": [
        "!git remote add origin https://github.com/Max-Konovalov/mtuci_lab1.git"
      ]
    },
    {
      "cell_type": "code",
      "execution_count": null,
      "metadata": {
        "colab": {
          "base_uri": "https://localhost:8080/"
        },
        "id": "3b-I9in5uTDO",
        "outputId": "5e23819c-a605-4e0a-f74f-6542fb94441e"
      },
      "outputs": [
        {
          "name": "stdout",
          "output_type": "stream",
          "text": [
            "error: src refspec master does not match any\n",
            "\u001b[31merror: failed to push some refs to 'https://github.com/Max-Konovalov/mtuci_lab1.git'\n",
            "\u001b[m"
          ]
        }
      ],
      "source": [
        "!git push -u origin master"
      ]
    },
    {
      "cell_type": "code",
      "execution_count": null,
      "metadata": {
        "id": "rY-CbqhRuHmj"
      },
      "outputs": [],
      "source": [
        "!git remote rm origin"
      ]
    },
    {
      "cell_type": "code",
      "execution_count": null,
      "metadata": {
        "colab": {
          "base_uri": "https://localhost:8080/"
        },
        "id": "MUif62dGvTPb",
        "outputId": "e0167d52-0c3c-4fed-dcfb-390145d887ab"
      },
      "outputs": [
        {
          "output_type": "stream",
          "name": "stdout",
          "text": [
            "Writing app.py\n"
          ]
        }
      ],
      "source": [
        "%%writefile app.py\n",
        "from fastapi import FastAPI, File, UploadFile\n",
        "import pandas as pd\n",
        "import joblib\n",
        "from io import BytesIO\n",
        "\n",
        "app = FastAPI()\n",
        "\n",
        "# Загрузка обученной модели\n",
        "model_path = \"/content/drive/MyDrive/laptop_price_model.pkl\"\n",
        "model = joblib.load(model_path)\n",
        "\n",
        "@app.post(\"/predict/\")\n",
        "async def predict(file: UploadFile = File(...)):\n",
        "    content = await file.read()\n",
        "    df = pd.read_csv(BytesIO(content))\n",
        "    predictions = model.predict(df)\n",
        "    return {\"predictions\": predictions.tolist()}\n"
      ]
    },
    {
      "cell_type": "code",
      "source": [
        "!pip install pyngrok"
      ],
      "metadata": {
        "colab": {
          "base_uri": "https://localhost:8080/"
        },
        "id": "TF0z6oK2sISY",
        "outputId": "2f2f6f29-8ba2-481e-d87a-7bcee6acb801"
      },
      "execution_count": null,
      "outputs": [
        {
          "output_type": "stream",
          "name": "stdout",
          "text": [
            "Collecting pyngrok\n",
            "  Downloading pyngrok-7.2.3-py3-none-any.whl.metadata (8.7 kB)\n",
            "Requirement already satisfied: PyYAML>=5.1 in /usr/local/lib/python3.11/dist-packages (from pyngrok) (6.0.2)\n",
            "Downloading pyngrok-7.2.3-py3-none-any.whl (23 kB)\n",
            "Installing collected packages: pyngrok\n",
            "Successfully installed pyngrok-7.2.3\n"
          ]
        }
      ]
    },
    {
      "cell_type": "code",
      "execution_count": null,
      "metadata": {
        "id": "4WKhDkoAvSLb",
        "colab": {
          "base_uri": "https://localhost:8080/"
        },
        "outputId": "2e142676-4a17-4630-b2f7-20e3bd2ed829"
      },
      "outputs": [
        {
          "output_type": "stream",
          "name": "stdout",
          "text": [
            "Authtoken saved to configuration file: /root/.config/ngrok/ngrok.yml\n",
            "API доступно по адресу: NgrokTunnel: \"https://aa01-35-196-18-66.ngrok-free.app\" -> \"http://localhost:8000\"\n"
          ]
        }
      ],
      "source": [
        "!ngrok config add-authtoken \"2uiMzixdQZZMvYdQZL3aar3JL1B_3f3WiMsGNneJ3JvSpAEZN\"\n",
        "\n",
        "#Далее в фоновом режиме запускаем uvicorn:\n",
        "!nohup uvicorn app:app --host 0.0.0.0 --port 8000 --reload > fastapi.log 2>&1 &\n",
        "\n",
        "\n",
        "#После чего уже запускаем FastAPI\n",
        "\n",
        "from pyngrok import ngrok\n",
        "# Подключаем публичный URL\n",
        "public_url = ngrok.connect(8000)\n",
        "print(\"API доступно по адресу:\", public_url)\n"
      ]
    },
    {
      "cell_type": "code",
      "execution_count": null,
      "metadata": {
        "id": "cgXgoajRpAu3",
        "colab": {
          "base_uri": "https://localhost:8080/"
        },
        "outputId": "3a38243c-7eda-490b-fb7e-fbcf1f880239"
      },
      "outputs": [
        {
          "output_type": "stream",
          "name": "stdout",
          "text": [
            "Столбец Brand безопасен.\n",
            "Фильтрация данных завершена.\n",
            "Столбец с хешированными ценами добавлен.\n",
            "Столбец с зашифрованными ценами добавлен.\n",
            "Столбец с зашифрованной RAM добавлен.\n",
            "Примеры расшифрованных значений RAM:\n",
            "16\n",
            "4\n",
            "4\n",
            "16\n",
            "32\n",
            "Обработанный файл сохранен: Laptop_price_secured.csv\n"
          ]
        },
        {
          "output_type": "stream",
          "name": "stderr",
          "text": [
            "<ipython-input-26-650552b0f983>:39: FutureWarning: DataFrame.applymap has been deprecated. Use DataFrame.map instead.\n",
            "  df = df.applymap(lambda x: clean_input(str(x)) if isinstance(x, str) else x)\n"
          ]
        }
      ],
      "source": [
        "import pandas as pd\n",
        "import hashlib\n",
        "import re\n",
        "from cryptography.fernet import Fernet\n",
        "\n",
        "# Загрузка данных\n",
        "file_path = '/content/Laptop_price.csv'\n",
        "try:\n",
        "    df = pd.read_csv(file_path)\n",
        "except Exception as e:\n",
        "    print(f\"Ошибка загрузки файла: {e}\")\n",
        "\n",
        "# 1. Проверка CSV на уязвимости (CSV Injection)\n",
        "def check_csv_injection(df):\n",
        "    dangerous_chars = ('=', '+', '-', '@')\n",
        "    for col in df.select_dtypes(include=['object']).columns:\n",
        "        if df[col].astype(str).apply(lambda x: x.lstrip().startswith(dangerous_chars) or any(x.startswith(f' {c}') for c in dangerous_chars)).any():\n",
        "            print(f\"Обнаружены потенциальные CSV-инъекции в столбце {col}!\")\n",
        "        else:\n",
        "            print(f\"Столбец {col} безопасен.\")\n",
        "\n",
        "check_csv_injection(df)\n",
        "\n",
        "# 2. Фильтрация данных от SQL-инъекций и XSS-атак\n",
        "def clean_input(value):\n",
        "    sql_keywords = [\"SELECT\", \"DROP\", \"DELETE\", \"INSERT\", \"UPDATE\", \"ALTER\", \"UNION\", \"--\"]\n",
        "    xss_patterns = [r'<script.*?>.*?</script>', r'javascript:.*', r'onerror=.*']\n",
        "\n",
        "    for keyword in sql_keywords:\n",
        "        if keyword.lower() in value.lower():\n",
        "            return \"[BLOCKED]\"\n",
        "\n",
        "    for pattern in xss_patterns:\n",
        "        if re.search(pattern, value, re.IGNORECASE):\n",
        "            return \"[BLOCKED]\"\n",
        "\n",
        "    return value\n",
        "\n",
        "df = df.applymap(lambda x: clean_input(str(x)) if isinstance(x, str) else x)\n",
        "print(\"Фильтрация данных завершена.\")\n",
        "\n",
        "# 3. Хеширование столбца с ценами (SHA-256)\n",
        "def hash_price(price):\n",
        "    return hashlib.sha256(str(price).encode()).hexdigest()\n",
        "\n",
        "df['Price_Hashed'] = df['Price'].apply(hash_price)\n",
        "print(\"Столбец с хешированными ценами добавлен.\")\n",
        "\n",
        "# 4. Шифрование данных (например, цены ноутбуков)\n",
        "key_price = Fernet.generate_key()\n",
        "cipher_price = Fernet(key_price)\n",
        "\n",
        "def encrypt_price(price):\n",
        "    return cipher_price.encrypt(str(price).encode()).decode()\n",
        "\n",
        "def decrypt_price(encrypted_price):\n",
        "    return cipher_price.decrypt(encrypted_price.encode()).decode()\n",
        "\n",
        "df['Price_Encrypted'] = df['Price'].apply(encrypt_price)\n",
        "print(\"Столбец с зашифрованными ценами добавлен.\")\n",
        "\n",
        "# 5. Шифрование столбца RAM\n",
        "key_ram = Fernet.generate_key()\n",
        "cipher_ram = Fernet(key_ram)\n",
        "\n",
        "def encrypt_ram(ram):\n",
        "    return cipher_ram.encrypt(str(ram).encode()).decode()\n",
        "\n",
        "def decrypt_ram(encrypted_ram):\n",
        "    return cipher_ram.decrypt(encrypted_ram.encode()).decode()\n",
        "\n",
        "df['RAM_Encrypted'] = df['RAM_Size'].apply(encrypt_ram)\n",
        "print(\"Столбец с зашифрованной RAM добавлен.\")\n",
        "\n",
        "# Вывод 5 расшифрованных значений RAM\n",
        "print(\"Примеры расшифрованных значений RAM:\")\n",
        "for encrypted_ram in df['RAM_Encrypted'].head(5):\n",
        "    print(decrypt_ram(encrypted_ram))\n",
        "\n",
        "# Сохранение обработанных данных\n",
        "output_path = \"Laptop_price_secured.csv\"\n",
        "df.to_csv(output_path, index=False)\n",
        "print(f\"Обработанный файл сохранен: {output_path}\")\n"
      ]
    }
  ],
  "metadata": {
    "colab": {
      "provenance": [],
      "authorship_tag": "ABX9TyN2DBYMuDLXkcsDliyKUmHW",
      "include_colab_link": true
    },
    "kernelspec": {
      "display_name": "Python 3",
      "name": "python3"
    },
    "language_info": {
      "name": "python"
    }
  },
  "nbformat": 4,
  "nbformat_minor": 0
}